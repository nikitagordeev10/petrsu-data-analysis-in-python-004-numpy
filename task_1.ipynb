{
 "cells": [
  {
   "cell_type": "markdown",
   "metadata": {},
   "source": [
    "При выполнении минимизировать использование циклов (for, while) и условного оператор if, вместо них следует использовать маски.  Вставьте в ответ код программы с реализацией функции function(int_list), на вход которой подается список из n (n>3) целых чисел int_list. В function() последовательно:\n",
    "- Создается numpy.ndarray (numpy массив) n_list из элементов int_list.\n",
    "- В n_list все отрицательные элементы уменьшаются на 3.\n",
    "- В n_list все положительные элементы увеличиваются в три раза.\n",
    "- В  n_list все равные 0 элементы увеличиваются на 1.\n",
    "\n",
    "Функция function() должна с помощью return возвращать сумму всех элементов n_list.\n",
    "\n",
    "Для примера:\n",
    "\n",
    "| Тест                                | Результат |\n",
    "| ----------------------------------- | --------- |\n",
    "| print(function([1,2,3,-30, 0]))     | -14       |\n",
    "| print(function([1,2,3,-30, 30, 0])) | 76        |\n"
   ]
  },
  {
   "cell_type": "code",
   "execution_count": 1,
   "metadata": {},
   "outputs": [],
   "source": [
    "import numpy as np  # Импортируем библиотеку numpy для работы с массивами\n",
    "\n",
    "def function(int_list):\n",
    "    # Преобразуем входной список в numpy массив для удобной обработки\n",
    "    n_list = np.array(int_list)\n",
    "\n",
    "    # Создаем маски для элементов массива\n",
    "    mask_negative = n_list < 0  # Маска для отрицательных чисел\n",
    "    mask_positive = n_list > 0  # Маска для положительных чисел\n",
    "    mask_zero = n_list == 0     # Маска для нулей\n",
    "\n",
    "    # Применяем преобразования к элементам массива на основе их масок\n",
    "    n_list[mask_negative] -= 3  # Отрицательные числа уменьшаем на 3\n",
    "    n_list[mask_positive] *= 3  # Положительные числа умножаем на 3\n",
    "    n_list[mask_zero] += 1      # Нули увеличиваем на 1\n",
    "\n",
    "    # Возвращаем сумму всех элементов обработанного массива\n",
    "    return np.sum(n_list)\n"
   ]
  },
  {
   "cell_type": "code",
   "execution_count": 2,
   "metadata": {},
   "outputs": [
    {
     "name": "stdout",
     "output_type": "stream",
     "text": [
      "-14\n"
     ]
    }
   ],
   "source": [
    "print(function([1,2,3,-30, 0]))"
   ]
  },
  {
   "cell_type": "code",
   "execution_count": 3,
   "metadata": {},
   "outputs": [
    {
     "name": "stdout",
     "output_type": "stream",
     "text": [
      "76\n"
     ]
    }
   ],
   "source": [
    "print(function([1,2,3,-30, 30, 0]))"
   ]
  }
 ],
 "metadata": {
  "kernelspec": {
   "display_name": ".venv",
   "language": "python",
   "name": "python3"
  },
  "language_info": {
   "codemirror_mode": {
    "name": "ipython",
    "version": 3
   },
   "file_extension": ".py",
   "mimetype": "text/x-python",
   "name": "python",
   "nbconvert_exporter": "python",
   "pygments_lexer": "ipython3",
   "version": "3.10.11"
  }
 },
 "nbformat": 4,
 "nbformat_minor": 2
}
