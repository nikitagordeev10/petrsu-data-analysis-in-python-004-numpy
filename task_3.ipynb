{
 "cells": [
  {
   "cell_type": "markdown",
   "metadata": {},
   "source": [
    "При выполнении минимизировать использование циклов (for, while) и условного оператор if, вместо них следует использовать маски.   \n",
    "\n",
    "Вставьте в ответ код программы с реализацией функции function(a,b,c), на вход которой подаются коэффициенты a,b,c одного из уравнений системы линейных алгебраических уравнений (СЛАУ) с переменными x, y, z, w:\n",
    "\n",
    "<img src=\"image.png\" alt=\"уравнение\" width=\"200\"/>\n",
    "\n",
    "В function() решить СЛАУ (найти значения x, y, z, w удовлетворяющие системе), найти сумму найденных значений x, y, z, w,  используя функцию int(), округлить ее до целого числа. С помощью return вернуть значение округленной суммы.\n",
    "\n",
    "Для примера:\n",
    "\n",
    "| Тест                    | Результат |\n",
    "| ----------------------- | --------- |\n",
    "| print(function(12,6,1)) | 2         |\n",
    "| print(function(12,6,5)) | 5         |\n"
   ]
  },
  {
   "cell_type": "code",
   "execution_count": null,
   "metadata": {},
   "outputs": [],
   "source": [
    "import numpy as np  # Импортируем библиотеку numpy для работы с массивами и линейной алгеброй\n",
    "\n",
    "def function(a, b, c):\n",
    "    # Формируем матрицу коэффициентов A, где a, b, c - входные параметры\n",
    "    A = np.array([[1, 0, 1, 0],       # Первая строка матрицы\n",
    "                  [4, 0, 1, -2],      # Вторая строка матрицы\n",
    "                  [a, b, 0, c],       # Третья строка с использованием входных параметров\n",
    "                  [-1, 1, -2, 1]])    # Четвертая строка матрицы\n",
    "\n",
    "    # Формируем вектор свободных членов B\n",
    "    B = np.array([2, 0, 5, -2])\n",
    "\n",
    "    # Решаем систему линейных уравнений Ax = B, где x - вектор неизвестных\n",
    "    solution = np.linalg.solve(A, B)\n",
    "\n",
    "    # Вычисляем сумму всех элементов найденного решения и приводим её к целому числу\n",
    "    total_sum = int(np.sum(solution))\n",
    "\n",
    "    # Возвращаем итоговую сумму\n",
    "    return total_sum\n"
   ]
  },
  {
   "cell_type": "code",
   "execution_count": 4,
   "metadata": {},
   "outputs": [
    {
     "name": "stdout",
     "output_type": "stream",
     "text": [
      "2\n"
     ]
    }
   ],
   "source": [
    "print(function(12,6,1))"
   ]
  },
  {
   "cell_type": "code",
   "execution_count": 5,
   "metadata": {},
   "outputs": [
    {
     "name": "stdout",
     "output_type": "stream",
     "text": [
      "5\n"
     ]
    }
   ],
   "source": [
    "print(function(12,6,5))"
   ]
  }
 ],
 "metadata": {
  "kernelspec": {
   "display_name": ".venv",
   "language": "python",
   "name": "python3"
  },
  "language_info": {
   "codemirror_mode": {
    "name": "ipython",
    "version": 3
   },
   "file_extension": ".py",
   "mimetype": "text/x-python",
   "name": "python",
   "nbconvert_exporter": "python",
   "pygments_lexer": "ipython3",
   "version": "3.10.11"
  }
 },
 "nbformat": 4,
 "nbformat_minor": 2
}
