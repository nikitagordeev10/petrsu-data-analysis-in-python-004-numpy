{
 "cells": [
  {
   "cell_type": "markdown",
   "metadata": {},
   "source": [
    "При выполнении минимизировать использование циклов (for, while) и условного оператор if, вместо них следует использовать маски.  \n",
    "\n",
    "Вставьте в ответ код программы с реализацией функции function(price1, price2), на вход которой подается списки средних за день цен акций компании А с двух бирж за каждый из n (n>1) дней. В function() последовательно:\n",
    "\n",
    "- Создать два numpy.ndarray (numpy массив) n_price1 и n_price2 для каждого списка price1 и price2.\n",
    "- В каждом из n_price1 и n_price2 удалить каждое второе значение (удалить все элементы с нечетным индексом). После этого найти средние значения, результаты сохранить в price_avg1 и price_avg2.  \n",
    "- Найти price_avg = (price_avg1 + price_avg2) / 2.\n",
    "- В каждом из n_price1 и n_price2 отобрать элементы, которые меньше значения price_avg. Полученные результаты объединить в один массив price (тип  numpy.ndarray).\n",
    "- В price найти среднее значение price_avg и среднеквадратичное отклонение price_std, округлить их используя функцию int().\n",
    "- Функция function() должна с помощью return возвращать сумму округленных значений price_avg и price_std.\n",
    "\n",
    "Для примера:\n",
    "\n",
    "| Тест                                                           | Результат |\n",
    "| -------------------------------------------------------------- | --------- |\n",
    "| print(function([11,22,33,44,55,66,77],[11,22,33,44,55,66,77])) | 33        |\n",
    "| print(function([15,22,33,44,55,66,77],[17,22,33,44,55,66,77])) | 32        |\n"
   ]
  },
  {
   "cell_type": "code",
   "execution_count": null,
   "metadata": {},
   "outputs": [],
   "source": [
    "import numpy as np  # Импортируем библиотеку numpy для работы с массивами\n",
    "\n",
    "def function(price1, price2):\n",
    "    # Преобразуем входные списки цен в numpy массивы для удобной обработки\n",
    "    n_price1 = np.array(price1)\n",
    "    n_price2 = np.array(price2)\n",
    "\n",
    "    # Отбираем только элементы массива с четными индексами\n",
    "    n_price1 = n_price1[np.arange(len(n_price1)) % 2 == 0]\n",
    "    n_price2 = n_price2[np.arange(len(n_price2)) % 2 == 0]\n",
    "\n",
    "    # Вычисляем среднее значение для отобранных элементов каждого массива\n",
    "    price_avg1 = np.mean(n_price1)\n",
    "    price_avg2 = np.mean(n_price2)\n",
    "\n",
    "    # Находим общее среднее значение как среднее арифметическое двух средних\n",
    "    price_avg = (price_avg1 + price_avg2) / 2\n",
    "\n",
    "    # Формируем новый массив из элементов двух массивов, которые меньше общего среднего\n",
    "    price = np.concatenate((n_price1[n_price1 < price_avg], n_price2[n_price2 < price_avg]))\n",
    "\n",
    "    # Вычисляем целочисленное среднее и стандартное отклонение для нового массива\n",
    "    price_avg = int(np.mean(price))\n",
    "    price_std = int(np.std(price))\n",
    "\n",
    "    # Возвращаем сумму среднего значения и стандартного отклонения\n",
    "    return price_avg + price_std\n"
   ]
  },
  {
   "cell_type": "code",
   "execution_count": 2,
   "metadata": {},
   "outputs": [
    {
     "name": "stdout",
     "output_type": "stream",
     "text": [
      "33\n"
     ]
    }
   ],
   "source": [
    "print(function([11,22,33,44,55,66,77],[11,22,33,44,55,66,77]))"
   ]
  },
  {
   "cell_type": "code",
   "execution_count": 3,
   "metadata": {},
   "outputs": [
    {
     "name": "stdout",
     "output_type": "stream",
     "text": [
      "32\n"
     ]
    }
   ],
   "source": [
    "print(function([15,22,33,44,55,66,77],[17,22,33,44,55,66,77]))"
   ]
  }
 ],
 "metadata": {
  "kernelspec": {
   "display_name": ".venv",
   "language": "python",
   "name": "python3"
  },
  "language_info": {
   "codemirror_mode": {
    "name": "ipython",
    "version": 3
   },
   "file_extension": ".py",
   "mimetype": "text/x-python",
   "name": "python",
   "nbconvert_exporter": "python",
   "pygments_lexer": "ipython3",
   "version": "3.10.11"
  }
 },
 "nbformat": 4,
 "nbformat_minor": 2
}
